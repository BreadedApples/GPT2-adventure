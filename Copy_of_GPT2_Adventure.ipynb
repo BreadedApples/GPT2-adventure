{
  "nbformat": 4,
  "nbformat_minor": 0,
  "metadata": {
    "colab": {
      "name": "Copy of GPT2 Adventure",
      "version": "0.3.2",
      "provenance": [],
      "collapsed_sections": [],
      "toc_visible": true,
      "include_colab_link": true
    },
    "kernelspec": {
      "name": "python3",
      "display_name": "Python 3"
    },
    "accelerator": "GPU"
  },
  "cells": [
    {
      "cell_type": "markdown",
      "metadata": {
        "id": "view-in-github",
        "colab_type": "text"
      },
      "source": [
        "<a href=\"https://colab.research.google.com/github/BreadedApples/GPT2-adventure/blob/master/Copy_of_GPT2_Adventure.ipynb\" target=\"_parent\"><img src=\"https://colab.research.google.com/assets/colab-badge.svg\" alt=\"Open In Colab\"/></a>"
      ]
    },
    {
      "cell_type": "markdown",
      "metadata": {
        "id": "H7LoMj4GA4n_",
        "colab_type": "text"
      },
      "source": [
        "#  GPT Adventure\n",
        "*By Nathan Whitmore, based on a tutorial by [Max Woolf](http://minimaxir.com)*\n",
        "\n",
        "This is the game! Because it takes a fairly large amount of computing power and data storage, it runs on Google's servers through their Colab service. All you need to do to play it is\n",
        "\n",
        "\n",
        "*  File -> Save to save the file on your Google Drive\n",
        "*   Run the \"Setup steps\" code\n",
        "*  Run the \"Play the game\" code\n",
        "\n",
        "\n",
        "\n"
      ]
    },
    {
      "cell_type": "markdown",
      "metadata": {
        "id": "DokdjmMDsIqq",
        "colab_type": "text"
      },
      "source": [
        "##Setup steps\n",
        "Before playing this must be run to put the needed files on Google's servers. Click the arrow on the top left of the box below to run setup."
      ]
    },
    {
      "cell_type": "code",
      "metadata": {
        "id": "KBkpRgBCBS2_",
        "colab_type": "code",
        "colab": {}
      },
      "source": [
        "#Click the number or arrow to the left to run\n",
        "\n",
        "!pip install -q gpt-2-simple\n",
        "import gpt_2_simple as gpt2\n",
        "from datetime import datetime\n",
        "from google.colab import files\n",
        "!wget -O checkpoint_run1.tar https://northwestern.box.com/shared/static/8k34b5sfq1ib5e4kmwjehxtpjotfdszl.tar\n",
        "!tar -xvf checkpoint_run1.tar\n",
        "sess = gpt2.start_tf_sess()\n",
        "gpt2.load_gpt2(sess)\n",
        "print(\"Setup complete!\")"
      ],
      "execution_count": 0,
      "outputs": []
    },
    {
      "cell_type": "markdown",
      "metadata": {
        "id": "ClJwpF_ACONp",
        "colab_type": "text"
      },
      "source": [
        "## Play the game\n",
        "\n",
        "Once you see \"Setup complete\" in the box above, click the arrow in the box below to start running the game. It will take a couple of seconds for the game to generate the first prompt.\n",
        "\n",
        "**Tips**\n",
        "\n",
        "\n",
        "*   The game works best if you give it simple commmands, i.e. \"go west\" or \"open box\"\n",
        "*   If you're not sure what to do, you can say \"Look around\" or enter nothing at all and the game will continue descriving your current location.\n",
        "\n"
      ]
    },
    {
      "cell_type": "code",
      "metadata": {
        "id": "4RNY6RBI9LmL",
        "colab_type": "code",
        "outputId": "17157c8b-b4f6-4941-b462-e08a6cc32582",
        "colab": {
          "base_uri": "https://localhost:8080/",
          "height": 176
        }
      },
      "source": [
        "#Click the number or arrow to the left to run\n",
        "\n",
        "\n",
        "\n",
        "def isContext(text): #is a iece of textthis a context change? (i.e. moving to a new room)\n",
        "  if \"you are\" in text or \"we are\" in text or \"this is\" in text or '''you're''' in text: #context change\n",
        "    return True\n",
        "  else:\n",
        "    return False\n",
        "\n",
        "def isTakeLoop(playerAction,result): #lets us detect a loop condition where the game just replies \"taken\" to everything\n",
        "  if \"take\" in result.lower() and \"take\" not in playerAction.lower():\n",
        "    return True\n",
        "  else:\n",
        "    return False\n",
        "\n",
        "#This text defines where your character starts! You can make it anything!\n",
        "history=\"you are standing in a grassy meadow. A path follows a stream to the east. A unicorn grazes by the stream.\" \n",
        "\n",
        "STRICT_MODE=True #Change to True to make the game a bit more coherent, but possibly a bit less interesting\n",
        "\n",
        "locContext=\"\"\n",
        "alreadyDone=\"\"\n",
        "prompt=\"\"\n",
        "action=\"\"\n",
        "while True:\n",
        "  newprompt=\"no response\"\n",
        "  gpo=gpt2.generate(sess, temperature=0.1,prefix=history,run_name='run1',length=100,return_as_list=True,nsamples=3,batch_size=3,top_p=0.99)\n",
        "  for candidate in gpo:\n",
        "    goodCandidate=False\n",
        "    result=candidate\n",
        "    splitup=result.split(\"\\n\")\n",
        "    newprompt=\"\"\n",
        "    hasContext=False\n",
        "    for item in splitup:\n",
        "      words=item.split(\" \")\n",
        "      if (item not in alreadyDone or len(words) <= 2) and item not in newprompt and (isTakeLoop(action,item)==False):#avoid repeating things we've said in this or previous responses. If a response is very short (i.e. \"taken\" when you pick up an item) it's ok to repeat.\n",
        "        if (\".\" in item or \"?\" in item or \"!\" in item) and (hasContext==False or  isContext(item)==False) : #If it's a next player action, then stop, otherwise keep going\n",
        "          newprompt=newprompt+item\n",
        "          goodCandidate=True\n",
        "          if isContext(item):\n",
        "            hasContext=True\n",
        "        else:\n",
        "          if goodCandidate and STRICT_MODE: #This prevents GPT from taking actions on our behalf. If strict mode is on actions are never taken, if it is off they are taklen but not shown to us. Strict mode on can make the game more playable at the expense of less interesting descriptions \n",
        "            break\n",
        "    if goodCandidate:\n",
        "      break\n",
        "  if len(newprompt) > 3: #this will be blank if GPT couldn't come up with anything\n",
        "    if isContext(newprompt): #This is updating the location context\n",
        "      locContext=newprompt\n",
        "    print(newprompt.replace(\".\",\"\\n\").upper())\n",
        "    prompt=newprompt\n",
        "    action=input()\n",
        "    history=locContext+\"\\n\"+prompt+\"\\n\"+action\n",
        "    alreadyDone=alreadyDone+prompt+\"\\n\"+action\n",
        "  else:\n",
        "    print(\"I don't know how to do that\".upper())\n",
        "    newaction=input()\n",
        "    history=locContext+\"\\n\"+prompt+\"\\n\"+newaction\n",
        "    alreadyDone=alreadyDone+\"\\n\"+newaction\n",
        "    \n",
        "  "
      ],
      "execution_count": 0,
      "outputs": [
        {
          "output_type": "stream",
          "text": [
            "WARNING:tensorflow:From /usr/local/lib/python3.6/dist-packages/gpt_2_simple/src/sample.py:32: add_dispatch_support.<locals>.wrapper (from tensorflow.python.ops.array_ops) is deprecated and will be removed in a future version.\n",
            "Instructions for updating:\n",
            "Use tf.where in 2.0, which has the same broadcast rule as np.where\n",
            "YOU ARE STANDING IN A GRASSY MEADOW\n",
            " A PATH FOLLOWS A STREAM TO THE EAST\n",
            " A UNICORN GRAZES BY THE STREAM\n",
            "\n"
          ],
          "name": "stdout"
        }
      ]
    },
    {
      "cell_type": "markdown",
      "metadata": {
        "id": "wmTXWNUygS5E",
        "colab_type": "text"
      },
      "source": [
        "# LICENSE\n",
        "\n",
        "MIT License\n",
        "\n",
        "Copyright (c) 2019 Nathan Whitmore, Max Woolf\n",
        "\n",
        "Permission is hereby granted, free of charge, to any person obtaining a copy\n",
        "of this software and associated documentation files (the \"Software\"), to deal\n",
        "in the Software without restriction, including without limitation the rights\n",
        "to use, copy, modify, merge, publish, distribute, sublicense, and/or sell\n",
        "copies of the Software, and to permit persons to whom the Software is\n",
        "furnished to do so, subject to the following conditions:\n",
        "\n",
        "The above copyright notice and this permission notice shall be included in all\n",
        "copies or substantial portions of the Software.\n",
        "\n",
        "THE SOFTWARE IS PROVIDED \"AS IS\", WITHOUT WARRANTY OF ANY KIND, EXPRESS OR\n",
        "IMPLIED, INCLUDING BUT NOT LIMITED TO THE WARRANTIES OF MERCHANTABILITY,\n",
        "FITNESS FOR A PARTICULAR PURPOSE AND NONINFRINGEMENT. IN NO EVENT SHALL THE\n",
        "AUTHORS OR COPYRIGHT HOLDERS BE LIABLE FOR ANY CLAIM, DAMAGES OR OTHER\n",
        "LIABILITY, WHETHER IN AN ACTION OF CONTRACT, TORT OR OTHERWISE, ARISING FROM,\n",
        "OUT OF OR IN CONNECTION WITH THE SOFTWARE OR THE USE OR OTHER DEALINGS IN THE\n",
        "SOFTWARE."
      ]
    }
  ]
}